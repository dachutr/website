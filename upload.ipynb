{
  "nbformat": 4,
  "nbformat_minor": 0,
  "metadata": {
    "colab": {
      "provenance": [],
      "include_colab_link": true
    },
    "kernelspec": {
      "name": "python3",
      "display_name": "Python 3"
    },
    "language_info": {
      "name": "python"
    }
  },
  "cells": [
    {
      "cell_type": "markdown",
      "metadata": {
        "id": "view-in-github",
        "colab_type": "text"
      },
      "source": [
        "<a href=\"https://colab.research.google.com/github/dachutr/website/blob/main/upload.ipynb\" target=\"_parent\"><img src=\"https://colab.research.google.com/assets/colab-badge.svg\" alt=\"Open In Colab\"/></a>"
      ]
    },
    {
      "cell_type": "code",
      "metadata": {
        "colab": {
          "base_uri": "https://localhost:8080/"
        },
        "id": "OKPigJw81by2",
        "outputId": "88720dfc-fd7e-4106-f7b2-eca02059dce0"
      },
      "source": [
        "from google.colab import drive\n",
        "drive.mount('/content/drive')"
      ],
      "execution_count": 1,
      "outputs": [
        {
          "output_type": "stream",
          "name": "stdout",
          "text": [
            "Mounted at /content/drive\n"
          ]
        }
      ]
    },
    {
      "cell_type": "code",
      "metadata": {
        "colab": {
          "base_uri": "https://localhost:8080/"
        },
        "id": "tTyC-POm1yLK",
        "outputId": "2dce0833-b50a-41e1-c9a4-1d9434c7b60a"
      },
      "source": [
        "!wget -P /content/drive/MyDrive/mzs/ https://cdn.polihudgaacloud.workers.dev/0:/ladla_ep1hd.mp4"
      ],
      "execution_count": 3,
      "outputs": [
        {
          "output_type": "stream",
          "name": "stdout",
          "text": [
            "--2023-03-30 11:07:17--  https://cdn.polihudgaacloud.workers.dev/0:/ladla_ep1hd.mp4\n",
            "Resolving cdn.polihudgaacloud.workers.dev (cdn.polihudgaacloud.workers.dev)... 172.67.185.251, 104.21.0.109, 2606:4700:3036::6815:6d, ...\n",
            "Connecting to cdn.polihudgaacloud.workers.dev (cdn.polihudgaacloud.workers.dev)|172.67.185.251|:443... connected.\n",
            "HTTP request sent, awaiting response... 200 OK\n",
            "Length: 303590539 (290M) [video/mp4]\n",
            "Saving to: ‘/content/drive/MyDrive/mzs/ladla_ep1hd.mp4.1’\n",
            "\n",
            "ladla_ep1hd.mp4.1   100%[===================>] 289.53M  66.9MB/s    in 4.3s    \n",
            "\n",
            "2023-03-30 11:07:24 (66.7 MB/s) - ‘/content/drive/MyDrive/mzs/ladla_ep1hd.mp4.1’ saved [303590539/303590539]\n",
            "\n"
          ]
        }
      ]
    }
  ]
}